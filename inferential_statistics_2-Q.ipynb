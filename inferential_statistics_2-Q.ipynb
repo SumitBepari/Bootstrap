{
  "cells": [
    {
      "metadata": {},
      "cell_type": "markdown",
      "source": "# Inferential statistics II - Bootstrapping"
    },
    {
      "metadata": {},
      "cell_type": "markdown",
      "source": "## Introduction"
    },
    {
      "metadata": {},
      "cell_type": "markdown",
      "source": "In the previous frequentist mini-projects, you did frequentist calculations to perform inference from a sample of data. Such inference relies on theory largely developed from the 19th-Century onwards that is subject to certain assumptions or theoretical limits. These are fine if those assumptions hold for the particular case you're working on, and what you want to do has a known theoretical distribution (for example the mean of a sampling distribution that we looked at in the previous mini-project.)"
    },
    {
      "metadata": {},
      "cell_type": "markdown",
      "source": "In this mini-project, you'll use the same medical charge data you used in the frequentist inference mini-project, but this time you'll make inferences about the population using bootstrapping (ie. simulating repeated re-runs of an experiment.) If frequentism is about using assumptions and theoretical results to calculate what we expect to happen were an experiment to be run again and again and again, then bootstrapping is about using computing power to essentially re-run the sample draw again and again and again to see what actually happens."
    },
    {
      "metadata": {},
      "cell_type": "markdown",
      "source": "## Prerequisites"
    },
    {
      "metadata": {},
      "cell_type": "markdown",
      "source": "While these exercises do not strictly depend on these concepts, we encourage you to complete the previous mini-projects before starting this one so that you can approach this assignment with a good understanding of frequentist concepts like:\n* the _z_-statistic\n* the _t_-statistic\n* the difference and relationship between the two\n* the Central Limit Theorem, its assumptions and consequences\n* how to estimate the population mean and standard deviation from a sample\n* the concept of a sampling distribution of a test statistic, particularly for the mean\n* how to combine these concepts to calculate confidence intervals and p-values\n* how those confidence intervals and p-values allow you to perform hypothesis (or A/B) tests"
    },
    {
      "metadata": {},
      "cell_type": "markdown",
      "source": "To complete mini-project, it's important that you first complete the bootstrap resources listed in this subunit, as they contain valuable information about how to calculate bootstrap replicates of summary statistics. Having an basic understanding of what confidence intervals and p-values are will also be helpful (we touch on them in this mini-project, but please speak to your mentor or conduct individual research if you'd like to learn more.) "
    },
    {
      "metadata": {
        "trusted": true
      },
      "cell_type": "code",
      "source": "import pandas as pd\nimport numpy as np\nfrom numpy.random import seed\nimport matplotlib.pyplot as plt",
      "execution_count": 1,
      "outputs": []
    },
    {
      "metadata": {},
      "cell_type": "markdown",
      "source": "## Medical charge data set"
    },
    {
      "metadata": {
        "trusted": true
      },
      "cell_type": "code",
      "source": "med_charges = pd.read_csv('insurance2.csv')",
      "execution_count": 2,
      "outputs": []
    },
    {
      "metadata": {
        "trusted": true
      },
      "cell_type": "code",
      "source": "print(med_charges.head())\nprint(med_charges.info())",
      "execution_count": 3,
      "outputs": [
        {
          "output_type": "stream",
          "text": "   age  sex     bmi  children  smoker  region      charges  insuranceclaim\n0   19    0  27.900         0       1       3  16884.92400               1\n1   18    1  33.770         1       0       2   1725.55230               1\n2   28    1  33.000         3       0       2   4449.46200               0\n3   33    1  22.705         0       0       1  21984.47061               0\n4   32    1  28.880         0       0       1   3866.85520               1\n<class 'pandas.core.frame.DataFrame'>\nRangeIndex: 1338 entries, 0 to 1337\nData columns (total 8 columns):\nage               1338 non-null int64\nsex               1338 non-null int64\nbmi               1338 non-null float64\nchildren          1338 non-null int64\nsmoker            1338 non-null int64\nregion            1338 non-null int64\ncharges           1338 non-null float64\ninsuranceclaim    1338 non-null int64\ndtypes: float64(2), int64(6)\nmemory usage: 83.7 KB\nNone\n",
          "name": "stdout"
        }
      ]
    },
    {
      "metadata": {},
      "cell_type": "markdown",
      "source": "In the previous assignment, you used the frequentist approach to estimate the lower limit for the 95% confidence interval on the mean hospital charge. This approach relies on statistical theory that has been developed over the years and is also limited to statistics for which theoretical results on the sampling distribution exist. These results are remarkably useful and applicable much of the time and under a surprisingly wide range of conditions."
    },
    {
      "metadata": {},
      "cell_type": "markdown",
      "source": "Having calculated the 95% lower confidence interval using frequentist theory in the previous exercise, you'll now use bootstrap inference to verify your calculations and check that you get consistent results without making the assumptions required before. After all, the distribution of charges really was very non-normal."
    },
    {
      "metadata": {},
      "cell_type": "markdown",
      "source": "__Q:__ Use bootstrap sampling to estimate the same 95% confidence interval lower limit as before."
    },
    {
      "metadata": {},
      "cell_type": "markdown",
      "source": "__A:__Using bootstrap function to calcuate bootstramp sampling as below"
    },
    {
      "metadata": {
        "trusted": true
      },
      "cell_type": "code",
      "source": "np.random.seed(47)\nN_rep = 10000\n\n\ndef bootstrap_replicate_1d(data, function_to_call):\n    bs_sample = np.random.choice(data, len(data))\n    return(function_to_call(bs_sample))\n    \ndef draw_bs_reps(data, func, size=1):\n    \"\"\"Draw bootstrap replicates.\"\"\"\n\n    # Initialize array of replicates: bs_replicates\n    bs_replicates = np.empty(size)\n\n    # Generate replicates\n    for i in range(size):\n        bs_replicates[i] = bootstrap_replicate_1d(data, func)\n\n    return bs_replicates\n\ncharges_list = med_charges['charges']\nbootstrap_replicates = draw_bs_reps(charges_list, np.mean, N_rep)\n     \n_ = plt.hist(bootstrap_replicates, bins=30, normed=True)\n_ = plt.xlabel('CHARGES')\n_ = plt.ylabel('PDF')\n_ = plt.show()\n\nnp.mean(charges_list), np.mean(bootstrap_replicates)",
      "execution_count": 4,
      "outputs": [
        {
          "output_type": "display_data",
          "data": {
            "image/png": "[encoded data removed]",
            "text/plain": "<matplotlib.figure.Figure at 0x7f786ffd0198>"
          },
          "metadata": {}
        },
        {
          "output_type": "execute_result",
          "execution_count": 4,
          "data": {
            "text/plain": "(13270.422265141257, 13268.292567069491)"
          },
          "metadata": {}
        }
      ]
    },
    {
      "metadata": {
        "trusted": true
      },
      "cell_type": "code",
      "source": "conf_int = np.percentile(bootstrap_replicates, [2.5, 97.5])\nprint(conf_int)",
      "execution_count": 5,
      "outputs": [
        {
          "output_type": "stream",
          "text": "[12624.86211913 13918.00929997]\n",
          "name": "stdout"
        }
      ]
    },
    {
      "metadata": {
        "trusted": true
      },
      "cell_type": "code",
      "source": "_ = plt.hist(bootstrap_replicates, bins=30, normed=True)\n_ = plt.xlabel('CHARGES')\n_ = plt.ylabel('PDF')\n_ = plt.axvline(13268, color='r')\n_ = plt.axvline(12625, color='g', linestyle='-.')\n_ = plt.axvline(13918, color='g', linestyle='-.')\n_ = plt.show()",
      "execution_count": 6,
      "outputs": [
        {
          "output_type": "display_data",
          "data": {
            "image/png": "[encoded data removed]",
            "text/plain": "<matplotlib.figure.Figure at 0x7f786ffda6a0>"
          },
          "metadata": {}
        }
      ]
    },
    {
      "metadata": {},
      "cell_type": "markdown",
      "source": "If you performed 10000 replicates immediately after setting the random seed to 47, you should get the value 12724 here, which compares very well with the value 12725 obtained using the _t_-distribution confidence interval previously. It is a most pleasant result to see the predictions of classical frequentist theory match with results that are now possible through the number-crunching ability of computers."
    },
    {
      "metadata": {},
      "cell_type": "markdown",
      "source": "Remember, in the previous mini-projects, we saw that there are two ways of performing a _t_-test from a sample, depending on whether we can assume the groups have equal variance or not. We can actually easily test this using the bootstrap approach!"
    },
    {
      "metadata": {},
      "cell_type": "markdown",
      "source": "__Q:__ Calculate the 95% confidence interval for the difference between the standard deviations of insurance and non-insurance claim charges (insured - non-insured). Calculate the differences over 10000 replicates. Plot the histogram of values and mark the locations of the percentiles. State the null and alternative hypothesis and comment on whether you would retain or reject the null hypothesis in this case and why."
    },
    {
      "metadata": {},
      "cell_type": "markdown",
      "source": "H0 : Standard deviation of charges with insurance claim  is equal to standard deviation of charges without insurance claim\nH1 : Standard deviation of charges with insurance claim  is NOT equal to standard deviation of charges without insurance claim"
    },
    {
      "metadata": {
        "trusted": true
      },
      "cell_type": "code",
      "source": "charges_ins = med_charges.loc[med_charges['insuranceclaim'] == 1]\ncharges_no_ins = med_charges.loc[med_charges['insuranceclaim'] == 0]\n\nn1 = len(charges_ins)\nn2 = len(charges_no_ins)\n\ncharges_ins_list = charges_ins['charges']\ncharges_no_ins_list = charges_no_ins['charges']",
      "execution_count": 7,
      "outputs": []
    },
    {
      "metadata": {
        "trusted": true
      },
      "cell_type": "code",
      "source": "std_charges = np.std(charges_list)  \n\nstd_a_shifted = charges_ins_list - np.std(charges_ins_list) + std_charges\nstd_b_shifted = charges_no_ins_list - np.std(charges_no_ins_list) + std_charges\n\nempirical_diff_stds = np.std(charges_ins_list) - np.std(charges_no_ins_list)\n\na_bootstrap_replicates = draw_bs_reps(charges_ins_list, np.std, N_rep)\nb_bootstrap_replicates = draw_bs_reps(charges_no_ins_list, np.std, N_rep)\n\nbs_replicates = a_bootstrap_replicates - b_bootstrap_replicates",
      "execution_count": 8,
      "outputs": []
    },
    {
      "metadata": {
        "trusted": true
      },
      "cell_type": "code",
      "source": "conf_int = np.percentile(bs_replicates, [2.5, 97.5])\nprint(np.mean(bs_replicates))\nprint(conf_int)",
      "execution_count": 9,
      "outputs": [
        {
          "output_type": "stream",
          "text": "7588.218780589494\n[6670.01798997 8504.74868331]\n",
          "name": "stdout"
        }
      ]
    },
    {
      "metadata": {
        "trusted": true,
        "scrolled": true
      },
      "cell_type": "code",
      "source": "_ = plt.hist(bs_replicates, bins=30, normed=True)\n_ = plt.xlabel('CHARGES')\n_ = plt.ylabel('PDF')\n_ = plt.axvline(7601, color='r')\n_ = plt.axvline(6706, color='g', linestyle='-.')\n_ = plt.axvline(8515, color='g', linestyle='-.')\n_ = plt.show()",
      "execution_count": 10,
      "outputs": [
        {
          "output_type": "display_data",
          "data": {
            "image/png": "[encoded data removed]",
            "text/plain": "<matplotlib.figure.Figure at 0x7f786ffda240>"
          },
          "metadata": {}
        }
      ]
    },
    {
      "metadata": {},
      "cell_type": "markdown",
      "source": "## Confidence interval and p-value"
    },
    {
      "metadata": {},
      "cell_type": "markdown",
      "source": "The confidence interval above is often a useful quantity to estimate. If we wish to limit our expected probability of making a Type I error (where we wrongly reject the null hypothesis, and it is, instead, true) to $\\alpha$, the associated confidence interval is our estimate of the interval within which we expect the true population value to be found $100\\times(1 - \\alpha)$% of the time we do this test. In the above we performed bootstrap replicates to estimate the interval and reject the null hypothesis if this interval did not contain zero. You will sometimes see such an interval reported in the output of statistical functions.\n\nThe partner of the confidence interval is the p-value. The p-value and the confidence interval are linked through our choice of $\\alpha$. The p-value tells us how likely it is, under the null hypothesis, to get an outcome at least as extreme as what was observed. If this fails to reach the level of our _pre-specified_ $\\alpha$, we decide the null hypothesis is sufficiently unlikely to be true and thus reject it. To calculate this p-value via the bootstrap, we have to put ourselves in a position where we are simulating the null hypothesis being true and then calculate the fraction of times we observe a result at least as extreme as that actually observed.\n\nRemember how, previously, you used the _t_-test to calculate the p-value for the observed difference between the means of insured and non-insured medical cases. We're now going to repeat this, this time using the bootstrap approach.\n\n__Q:__ Perform a bootstrapped hypothesis test at the 5% significance level ($\\alpha = 0.05$) to calculate the p-value of the observed difference between insurance and non-insurance charges, state your null and alternative hypotheses and whether you retain or reject the null hypothesis for the given significance level."
    },
    {
      "metadata": {},
      "cell_type": "markdown",
      "source": "H0 : The people with insurance are charged same as people with no insurance.\nH1 : The people with insurance are charged not same as people with no insurance."
    },
    {
      "metadata": {
        "trusted": true
      },
      "cell_type": "code",
      "source": "mean_charges = np.mean(charges_list)  \n\nmean_a_shifted = charges_ins_list - np.mean(charges_ins_list) + mean_charges\nmean_b_shifted = charges_no_ins_list - np.mean(charges_no_ins_list) + mean_charges\n\nempirical_diff_means = np.mean(charges_ins_list) - np.mean(charges_no_ins_list)\n\na_bootstrap_replicates = draw_bs_reps(charges_ins_list, np.mean, N_rep)\nb_bootstrap_replicates = draw_bs_reps(charges_no_ins_list, np.mean, N_rep)\n\nbs_replicates_m = a_bootstrap_replicates - b_bootstrap_replicates",
      "execution_count": 11,
      "outputs": []
    },
    {
      "metadata": {
        "trusted": true
      },
      "cell_type": "code",
      "source": "conf_int = np.percentile(bs_replicates_m, [2.5, 97.5])\nprint(np.mean(bs_replicates_m))\nprint(conf_int)",
      "execution_count": 12,
      "outputs": [
        {
          "output_type": "stream",
          "text": "7600.735506190381\n[6498.51669618 8749.20937569]\n",
          "name": "stdout"
        }
      ]
    },
    {
      "metadata": {
        "trusted": true
      },
      "cell_type": "code",
      "source": "p = np.sum(bs_replicates_m >= empirical_diff_means) / 10000\nprint('p-value =', p)",
      "execution_count": 13,
      "outputs": [
        {
          "output_type": "stream",
          "text": "p-value = 0.4938\n",
          "name": "stdout"
        }
      ]
    },
    {
      "metadata": {
        "trusted": true
      },
      "cell_type": "code",
      "source": "alpha = 0.05\n# interpret via p-value\nif p > alpha:\n    print('Accept null hypothesis that insured people are charged same.')\nelse:\n    print('Reject the null hypothesis that insured people are not charge same.')",
      "execution_count": 14,
      "outputs": [
        {
          "output_type": "stream",
          "text": "Accept null hypothesis that insured people are charged same.\n",
          "name": "stdout"
        }
      ]
    },
    {
      "metadata": {
        "trusted": true
      },
      "cell_type": "code",
      "source": "#previous assignment\nfrom scipy.stats import ttest_ind\nfrom scipy.stats import t\ndf = len(charges_ins_list) + len(charges_no_ins_list) - 2\ncv = t.ppf(1.0 - alpha, df)\nt_stat, p = ttest_ind(charges_ins_list, charges_no_ins_list)\nprint('t=%.3f, p=%.35f, cv=%.3f' % (t_stat, p, cv))",
      "execution_count": 15,
      "outputs": [
        {
          "output_type": "stream",
          "text": "t=11.893, p=0.00000000000000000000000000000044612, cv=1.646\n",
          "name": "stdout"
        }
      ]
    },
    {
      "metadata": {
        "trusted": true
      },
      "cell_type": "code",
      "source": "# interpret via p-value (previous assignment)\nif p > alpha:\n    print('Accept null hypothesis that insured people are charged same.')\nelse:\n    print('Reject the null hypothesis that insured people are not charge same.')",
      "execution_count": 16,
      "outputs": [
        {
          "output_type": "stream",
          "text": "Reject the null hypothesis that insured people are not charge same.\n",
          "name": "stdout"
        }
      ]
    },
    {
      "metadata": {
        "trusted": true
      },
      "cell_type": "code",
      "source": "# interpret via critical value (previous assignment)\nif abs(t_stat) <= cv:\n    print('Accept null hypothesis that insured people are charged same.')\nelse:\n    print('Reject the null hypothesis that insured people are not charge same.')",
      "execution_count": 17,
      "outputs": [
        {
          "output_type": "stream",
          "text": "Reject the null hypothesis that insured people are not charge same.\n",
          "name": "stdout"
        }
      ]
    },
    {
      "metadata": {},
      "cell_type": "markdown",
      "source": "__Q:__ To put the above result in perspective, plot the histogram of your bootstrapped differences along with lines marking the locations of the observed difference. (Why would we plot more than one line, given that we only have one observed difference?)"
    },
    {
      "metadata": {},
      "cell_type": "markdown",
      "source": "__A:__Since the p-value (0.4938) is greater alpha (0.05), we fail to reject the null hypothesis. In other words, there is not enough evidence to suggest people with insurance are charged not same as people with no insurance."
    },
    {
      "metadata": {
        "trusted": true
      },
      "cell_type": "code",
      "source": "_ = plt.hist(bs_replicates_m, bins=30, normed=True)\n_ = plt.xlabel('CHARGES')\n_ = plt.ylabel('PDF')\n_ = plt.axvline(7602, color='r')\n_ = plt.axvline(6493, color='g', linestyle='-.')\n_ = plt.axvline(8725, color='g', linestyle='-.')\n_ = plt.show()",
      "execution_count": 18,
      "outputs": [
        {
          "output_type": "display_data",
          "data": {
            "image/png": "[encoded data removed]",
            "text/plain": "<matplotlib.figure.Figure at 0x7f786f2bb240>"
          },
          "metadata": {}
        }
      ]
    },
    {
      "metadata": {},
      "cell_type": "markdown",
      "source": "__Q:__ Compare your p-value above with that obtained using the _t_-test function in the previous assignment. Do you think you would want to try to perform enough bootstrap replicates to observe a random difference as large as that we did observe?"
    },
    {
      "metadata": {},
      "cell_type": "markdown",
      "source": "__A:__In the current calculation the p value is 0.493, and while t test function of the previous assignment also give the same result. However, will prefer bootstrap as it can estimate the sampling distribution without many of the assumptions needed by parametric methods"
    },
    {
      "metadata": {},
      "cell_type": "markdown",
      "source": "__Q:__ Consider the two variants of the _t_-test we performed in the previous assignment. Which one would you use now?"
    },
    {
      "metadata": {},
      "cell_type": "markdown",
      "source": "__A:__The first variants of the t test in the previous assignment was manual and prone to error. Hence, would use the second variant"
    },
    {
      "metadata": {},
      "cell_type": "markdown",
      "source": "__Q:__ If, instead of being asked whether the means of two groups were different, you were working with an ad-recommender team who wanted to release a new recommendation algorithm, and you were looking at click-through rate both for the current algorithm (call it A) and from trials of their new algorithm (call it B), would you perform a two-sided test as above? What would be your null and alternative hypotheses and what would be the real-world consequence of rejecting the null hypothesis?"
    },
    {
      "metadata": {},
      "cell_type": "markdown",
      "source": "__A:__We will use right side tail test. The H0 : The click through rate of the current algorithm is same as that from trials of the new algorithm\nH1 : The click through rate of the current algorithm is not same as that from trials of the new algorithm"
    },
    {
      "metadata": {},
      "cell_type": "markdown",
      "source": "# Learning outcomes\n\nYou've previously applied frequentist methods to calculate confidence intervals, p-values, and perform hypothesis tests. Frequentist methods use theoretical results to calculate what we expect would happen if experiments were to be run again and again and again. Now you've seen how you can do the same things using the bootstrap approach, which does not rely on such theory, and attendant assumptions, but instead literally does run experiments again and again and again.\n\nIn these exercises, you have:\n* calculated the same confidence interval lower limit as you did previously\n* tested the assumption that the variances of the two groups (insured vs. non-insured) were equal - something a bit harder to do using the frequentist method because of the nature of the sampling distribution for variance\n* calculated the p-value for the difference between the means of the two groups and compared with the result obtained using the previous frequentist approach\n\nYou are now well equipped to apply the bootstrap approach to a wide variety of problems. Just think about what conditions you wish to recreate in your simulated reruns."
    }
  ],
  "metadata": {
    "kernelspec": {
      "name": "python3",
      "display_name": "Python 3",
      "language": "python"
    },
    "language_info": {
      "mimetype": "text/x-python",
      "nbconvert_exporter": "python",
      "name": "python",
      "file_extension": ".py",
      "version": "3.5.4",
      "pygments_lexer": "ipython3",
      "codemirror_mode": {
        "version": 3,
        "name": "ipython"
      }
    }
  },
  "nbformat": 4,
  "nbformat_minor": 2
}