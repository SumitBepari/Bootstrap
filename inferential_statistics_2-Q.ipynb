{
 "cells": [
  {
   "cell_type": "markdown",
   "metadata": {},
   "source": [
    "# Inferential statistics II - Bootstrapping"
   ]
  },
  {
   "cell_type": "markdown",
   "metadata": {},
   "source": [
    "## Introduction"
   ]
  },
  {
   "cell_type": "markdown",
   "metadata": {},
   "source": [
    "In the previous frequentist mini-projects, you did frequentist calculations to perform inference from a sample of data. Such inference relies on theory largely developed from the 19th-Century onwards that is subject to certain assumptions or theoretical limits. These are fine if those assumptions hold for the particular case you're working on, and what you want to do has a known theoretical distribution (for example the mean of a sampling distribution that we looked at in the previous mini-project.)"
   ]
  },
  {
   "cell_type": "markdown",
   "metadata": {},
   "source": [
    "In this mini-project, you'll use the same medical charge data you used in the frequentist inference mini-project, but this time you'll make inferences about the population using bootstrapping (ie. simulating repeated re-runs of an experiment.) If frequentism is about using assumptions and theoretical results to calculate what we expect to happen were an experiment to be run again and again and again, then bootstrapping is about using computing power to essentially re-run the sample draw again and again and again to see what actually happens."
   ]
  },
  {
   "cell_type": "markdown",
   "metadata": {},
   "source": [
    "## Prerequisites"
   ]
  },
  {
   "cell_type": "markdown",
   "metadata": {},
   "source": [
    "While these exercises do not strictly depend on these concepts, we encourage you to complete the previous mini-projects before starting this one so that you can approach this assignment with a good understanding of frequentist concepts like:\n",
    "* the _z_-statistic\n",
    "* the _t_-statistic\n",
    "* the difference and relationship between the two\n",
    "* the Central Limit Theorem, its assumptions and consequences\n",
    "* how to estimate the population mean and standard deviation from a sample\n",
    "* the concept of a sampling distribution of a test statistic, particularly for the mean\n",
    "* how to combine these concepts to calculate confidence intervals and p-values\n",
    "* how those confidence intervals and p-values allow you to perform hypothesis (or A/B) tests"
   ]
  },
  {
   "cell_type": "markdown",
   "metadata": {},
   "source": [
    "To complete mini-project, it's important that you first complete the bootstrap resources listed in this subunit, as they contain valuable information about how to calculate bootstrap replicates of summary statistics. Having an basic understanding of what confidence intervals and p-values are will also be helpful (we touch on them in this mini-project, but please speak to your mentor or conduct individual research if you'd like to learn more.) "
   ]
  },
  {
   "cell_type": "code",
   "execution_count": 1,
   "metadata": {},
   "outputs": [],
   "source": [
    "import pandas as pd\n",
    "import numpy as np\n",
    "from numpy.random import seed\n",
    "import matplotlib.pyplot as plt"
   ]
  },
  {
   "cell_type": "markdown",
   "metadata": {},
   "source": [
    "## Medical charge data set"
   ]
  },
  {
   "cell_type": "code",
   "execution_count": 2,
   "metadata": {},
   "outputs": [],
   "source": [
    "med_charges = pd.read_csv('C:\\Sumit\\scripts\\Bootstrap\\Input\\insurance2.csv')"
   ]
  },
  {
   "cell_type": "code",
   "execution_count": 3,
   "metadata": {},
   "outputs": [
    {
     "name": "stdout",
     "output_type": "stream",
     "text": [
      "   age  sex     bmi  children  smoker  region      charges  insuranceclaim\n",
      "0   19    0  27.900         0       1       3  16884.92400               1\n",
      "1   18    1  33.770         1       0       2   1725.55230               1\n",
      "2   28    1  33.000         3       0       2   4449.46200               0\n",
      "3   33    1  22.705         0       0       1  21984.47061               0\n",
      "4   32    1  28.880         0       0       1   3866.85520               1\n",
      "<class 'pandas.core.frame.DataFrame'>\n",
      "RangeIndex: 1338 entries, 0 to 1337\n",
      "Data columns (total 8 columns):\n",
      "age               1338 non-null int64\n",
      "sex               1338 non-null int64\n",
      "bmi               1338 non-null float64\n",
      "children          1338 non-null int64\n",
      "smoker            1338 non-null int64\n",
      "region            1338 non-null int64\n",
      "charges           1338 non-null float64\n",
      "insuranceclaim    1338 non-null int64\n",
      "dtypes: float64(2), int64(6)\n",
      "memory usage: 83.7 KB\n",
      "None\n"
     ]
    }
   ],
   "source": [
    "print(med_charges.head())\n",
    "print(med_charges.info())"
   ]
  },
  {
   "cell_type": "markdown",
   "metadata": {},
   "source": [
    "In the previous assignment, you used the frequentist approach to estimate the lower limit for the 95% confidence interval on the mean hospital charge. This approach relies on statistical theory that has been developed over the years and is also limited to statistics for which theoretical results on the sampling distribution exist. These results are remarkably useful and applicable much of the time and under a surprisingly wide range of conditions."
   ]
  },
  {
   "cell_type": "markdown",
   "metadata": {},
   "source": [
    "Having calculated the 95% lower confidence interval using frequentist theory in the previous exercise, you'll now use bootstrap inference to verify your calculations and check that you get consistent results without making the assumptions required before. After all, the distribution of charges really was very non-normal."
   ]
  },
  {
   "cell_type": "markdown",
   "metadata": {},
   "source": [
    "__Q:__ Use bootstrap sampling to estimate the same 95% confidence interval lower limit as before."
   ]
  },
  {
   "cell_type": "markdown",
   "metadata": {},
   "source": [
    "__A:__Using bootstrap function to calcuate bootstramp sampling as below"
   ]
  },
  {
   "cell_type": "code",
   "execution_count": 4,
   "metadata": {},
   "outputs": [
    {
     "name": "stderr",
     "output_type": "stream",
     "text": [
      "C:\\Sumit\\Anaconda3\\lib\\site-packages\\matplotlib\\axes\\_axes.py:6521: MatplotlibDeprecationWarning: \n",
      "The 'normed' kwarg was deprecated in Matplotlib 2.1 and will be removed in 3.1. Use 'density' instead.\n",
      "  alternative=\"'density'\", removal=\"3.1\")\n"
     ]
    },
    {
     "data": {
      "image/png": "[encoded data removed]",
      "text/plain": [
       "<Figure size 432x288 with 1 Axes>"
      ]
     },
     "metadata": {
      "needs_background": "light"
     },
     "output_type": "display_data"
    },
    {
     "data": {
      "text/plain": [
       "(13270.422265141257, 13268.292567069491)"
      ]
     },
     "execution_count": 4,
     "metadata": {},
     "output_type": "execute_result"
    }
   ],
   "source": [
    "np.random.seed(47)\n",
    "N_rep = 10000\n",
    "\n",
    "\n",
    "def bootstrap_replicate_1d(data, function_to_call):\n",
    "    bs_sample = np.random.choice(data, len(data))\n",
    "    return(function_to_call(bs_sample))\n",
    "    \n",
    "def draw_bs_reps(data, func, size=1):\n",
    "    \"\"\"Draw bootstrap replicates.\"\"\"\n",
    "\n",
    "    # Initialize array of replicates: bs_replicates\n",
    "    bs_replicates = np.empty(size)\n",
    "\n",
    "    # Generate replicates\n",
    "    for i in range(size):\n",
    "        bs_replicates[i] = bootstrap_replicate_1d(data, func)\n",
    "\n",
    "    return bs_replicates\n",
    "\n",
    "charges_list = med_charges['charges']\n",
    "bootstrap_replicates = draw_bs_reps(charges_list, np.mean, N_rep)\n",
    "     \n",
    "_ = plt.hist(bootstrap_replicates, bins=30, normed=True)\n",
    "_ = plt.xlabel('CHARGES')\n",
    "_ = plt.ylabel('PDF')\n",
    "_ = plt.savefig(\"C:/Sumit/scripts/Bootstrap/Output/bootstrap_replicates_histogram.png\")\n",
    "_ = plt.show()\n",
    "\n",
    "\n",
    "np.mean(charges_list), np.mean(bootstrap_replicates)"
   ]
  },
  {
   "cell_type": "code",
   "execution_count": 5,
   "metadata": {},
   "outputs": [
    {
     "name": "stdout",
     "output_type": "stream",
     "text": [
      "[12624.86211913 13918.00929997]\n"
     ]
    }
   ],
   "source": [
    "conf_int = np.percentile(bootstrap_replicates, [2.5, 97.5])\n",
    "print(conf_int)"
   ]
  },
  {
   "cell_type": "code",
   "execution_count": 6,
   "metadata": {},
   "outputs": [
    {
     "data": {
      "image/png": "[encoded data removed]",
      "text/plain": [
       "<Figure size 432x288 with 1 Axes>"
      ]
     },
     "metadata": {
      "needs_background": "light"
     },
     "output_type": "display_data"
    }
   ],
   "source": [
    "_ = plt.hist(bootstrap_replicates, bins=30, normed=True)\n",
    "_ = plt.xlabel('CHARGES')\n",
    "_ = plt.ylabel('PDF')\n",
    "_ = plt.axvline(13268, color='r')\n",
    "_ = plt.axvline(12625, color='g', linestyle='-.')\n",
    "_ = plt.axvline(13918, color='g', linestyle='-.')\n",
    "_ = plt.savefig('C:/Sumit/scripts/Bootstrap/Output/bootstrap_replicates_hist_conf_int.png')\n",
    "_ = plt.show()"
   ]
  },
  {
   "cell_type": "markdown",
   "metadata": {},
   "source": [
    "If you performed 10000 replicates immediately after setting the random seed to 47, you should get the value 12724 here, which compares very well with the value 12725 obtained using the _t_-distribution confidence interval previously. It is a most pleasant result to see the predictions of classical frequentist theory match with results that are now possible through the number-crunching ability of computers."
   ]
  },
  {
   "cell_type": "markdown",
   "metadata": {},
   "source": [
    "Remember, in the previous mini-projects, we saw that there are two ways of performing a _t_-test from a sample, depending on whether we can assume the groups have equal variance or not. We can actually easily test this using the bootstrap approach!"
   ]
  },
  {
   "cell_type": "markdown",
   "metadata": {},
   "source": [
    "__Q:__ Calculate the 95% confidence interval for the difference between the standard deviations of insurance and non-insurance claim charges (insured - non-insured). Calculate the differences over 10000 replicates. Plot the histogram of values and mark the locations of the percentiles. State the null and alternative hypothesis and comment on whether you would retain or reject the null hypothesis in this case and why."
   ]
  },
  {
   "cell_type": "markdown",
   "metadata": {},
   "source": [
    "H0 : Standard deviation of charges with insurance claim  is equal to standard deviation of charges without insurance claim\n",
    "H1 : Standard deviation of charges with insurance claim  is NOT equal to standard deviation of charges without insurance claim"
   ]
  },
  {
   "cell_type": "code",
   "execution_count": 7,
   "metadata": {},
   "outputs": [],
   "source": [
    "charges_ins = med_charges.loc[med_charges['insuranceclaim'] == 1]\n",
    "charges_no_ins = med_charges.loc[med_charges['insuranceclaim'] == 0]\n",
    "\n",
    "n1 = len(charges_ins)\n",
    "n2 = len(charges_no_ins)\n",
    "\n",
    "charges_ins_list = charges_ins['charges']\n",
    "charges_no_ins_list = charges_no_ins['charges']"
   ]
  },
  {
   "cell_type": "code",
   "execution_count": 8,
   "metadata": {},
   "outputs": [],
   "source": [
    "std_charges = np.std(charges_list)  \n",
    "\n",
    "std_a_shifted = charges_ins_list - np.std(charges_ins_list) + std_charges\n",
    "std_b_shifted = charges_no_ins_list - np.std(charges_no_ins_list) + std_charges\n",
    "\n",
    "empirical_diff_stds = np.std(charges_ins_list) - np.std(charges_no_ins_list)\n",
    "\n",
    "a_bootstrap_replicates = draw_bs_reps(std_a_shifted, np.std, N_rep)\n",
    "b_bootstrap_replicates = draw_bs_reps(std_b_shifted, np.std, N_rep)\n",
    "\n",
    "bs_replicates = a_bootstrap_replicates - b_bootstrap_replicates"
   ]
  },
  {
   "cell_type": "code",
   "execution_count": 9,
   "metadata": {},
   "outputs": [
    {
     "name": "stdout",
     "output_type": "stream",
     "text": [
      "7588.2187805894955\n",
      "[6670.01798997 8504.74868331]\n"
     ]
    }
   ],
   "source": [
    "conf_int = np.percentile(bs_replicates, [2.5, 97.5])\n",
    "print(np.mean(bs_replicates))\n",
    "print(conf_int)"
   ]
  },
  {
   "cell_type": "code",
   "execution_count": 10,
   "metadata": {},
   "outputs": [
    {
     "name": "stdout",
     "output_type": "stream",
     "text": [
      "p-value=0.494\n"
     ]
    }
   ],
   "source": [
    "p = np.sum(bs_replicates >= empirical_diff_stds) / 10000\n",
    "print('p-value=%.3f' % (p))"
   ]
  },
  {
   "cell_type": "code",
   "execution_count": 11,
   "metadata": {
    "scrolled": true
   },
   "outputs": [
    {
     "data": {
      "image/png": "[encoded data removed]",
      "text/plain": [
       "<Figure size 432x288 with 1 Axes>"
      ]
     },
     "metadata": {
      "needs_background": "light"
     },
     "output_type": "display_data"
    }
   ],
   "source": [
    "_ = plt.hist(bs_replicates, bins=30, normed=True)\n",
    "_ = plt.xlabel('CHARGES')\n",
    "_ = plt.ylabel('PDF')\n",
    "_ = plt.axvline(7601, color='r')\n",
    "_ = plt.axvline(6706, color='g', linestyle='-.')\n",
    "_ = plt.axvline(8515, color='g', linestyle='-.')\n",
    "_ = plt.savefig('C:/Sumit/scripts/Bootstrap/Output/bootstrap_replicates_hist_std_conf_int.png')\n",
    "_ = plt.show()"
   ]
  },
  {
   "cell_type": "markdown",
   "metadata": {},
   "source": [
    "## Confidence interval and p-value"
   ]
  },
  {
   "cell_type": "markdown",
   "metadata": {},
   "source": [
    "The confidence interval above is often a useful quantity to estimate. If we wish to limit our expected probability of making a Type I error (where we wrongly reject the null hypothesis, and it is, instead, true) to $\\alpha$, the associated confidence interval is our estimate of the interval within which we expect the true population value to be found $100\\times(1 - \\alpha)$% of the time we do this test. In the above we performed bootstrap replicates to estimate the interval and reject the null hypothesis if this interval did not contain zero. You will sometimes see such an interval reported in the output of statistical functions.\n",
    "\n",
    "The partner of the confidence interval is the p-value. The p-value and the confidence interval are linked through our choice of $\\alpha$. The p-value tells us how likely it is, under the null hypothesis, to get an outcome at least as extreme as what was observed. If this fails to reach the level of our _pre-specified_ $\\alpha$, we decide the null hypothesis is sufficiently unlikely to be true and thus reject it. To calculate this p-value via the bootstrap, we have to put ourselves in a position where we are simulating the null hypothesis being true and then calculate the fraction of times we observe a result at least as extreme as that actually observed.\n",
    "\n",
    "Remember how, previously, you used the _t_-test to calculate the p-value for the observed difference between the means of insured and non-insured medical cases. We're now going to repeat this, this time using the bootstrap approach.\n",
    "\n",
    "__Q:__ Perform a bootstrapped hypothesis test at the 5% significance level ($\\alpha = 0.05$) to calculate the p-value of the observed difference between insurance and non-insurance charges, state your null and alternative hypotheses and whether you retain or reject the null hypothesis for the given significance level."
   ]
  },
  {
   "cell_type": "markdown",
   "metadata": {},
   "source": [
    "H0 : The people with insurance are charged same as people with no insurance.\n",
    "H1 : The people with insurance are charged not same as people with no insurance."
   ]
  },
  {
   "cell_type": "code",
   "execution_count": 12,
   "metadata": {},
   "outputs": [
    {
     "name": "stdout",
     "output_type": "stream",
     "text": [
      "[-270.07141242 -185.47837108   19.31933924 ...  940.67904725  314.39037488\n",
      "  329.61960568]\n"
     ]
    }
   ],
   "source": [
    "mean_charges = np.mean(charges_list)  \n",
    "\n",
    "mean_a_shifted = charges_ins_list - np.mean(charges_ins_list) + mean_charges\n",
    "mean_b_shifted = charges_no_ins_list - np.mean(charges_no_ins_list) + mean_charges\n",
    "\n",
    "empirical_diff_means = np.mean(charges_ins_list) - np.mean(charges_no_ins_list)\n",
    "\n",
    "a_bootstrap_replicates = draw_bs_reps(mean_a_shifted, np.mean, N_rep)\n",
    "b_bootstrap_replicates = draw_bs_reps(mean_b_shifted, np.mean, N_rep)\n",
    "\n",
    "bs_replicates_m = a_bootstrap_replicates - b_bootstrap_replicates\n",
    "print(bs_replicates_m)"
   ]
  },
  {
   "cell_type": "code",
   "execution_count": 13,
   "metadata": {},
   "outputs": [
    {
     "name": "stdout",
     "output_type": "stream",
     "text": [
      "-1.7708780409872822\n",
      "[-1103.98968806  1146.70299145]\n"
     ]
    }
   ],
   "source": [
    "conf_int = np.percentile(bs_replicates_m, [2.5, 97.5])\n",
    "print(np.mean(bs_replicates_m))\n",
    "print(conf_int)"
   ]
  },
  {
   "cell_type": "code",
   "execution_count": 14,
   "metadata": {},
   "outputs": [
    {
     "name": "stdout",
     "output_type": "stream",
     "text": [
      "p-value=0.00000000000000000000000000000000000\n"
     ]
    }
   ],
   "source": [
    "p = np.sum(bs_replicates_m >= empirical_diff_means) / 10000\n",
    "print('p-value=%.35f' % (p))"
   ]
  },
  {
   "cell_type": "code",
   "execution_count": 15,
   "metadata": {},
   "outputs": [
    {
     "name": "stdout",
     "output_type": "stream",
     "text": [
      "Reject the null hypothesis that insured people are not charge same.\n"
     ]
    }
   ],
   "source": [
    "alpha = 0.05\n",
    "# interpret via p-value\n",
    "if p > alpha:\n",
    "    print('Accept null hypothesis that insured people are charged same.')\n",
    "else:\n",
    "    print('Reject the null hypothesis that insured people are not charge same.')"
   ]
  },
  {
   "cell_type": "code",
   "execution_count": 16,
   "metadata": {},
   "outputs": [
    {
     "name": "stdout",
     "output_type": "stream",
     "text": [
      "t=11.893, p=0.00000000000000000000000000000044612, cv=1.646\n"
     ]
    }
   ],
   "source": [
    "#previous assignment\n",
    "from scipy.stats import ttest_ind\n",
    "from scipy.stats import t\n",
    "df = len(charges_ins_list) + len(charges_no_ins_list) - 2\n",
    "cv = t.ppf(1.0 - alpha, df)\n",
    "t_stat, p = ttest_ind(charges_ins_list, charges_no_ins_list)\n",
    "print('t=%.3f, p=%.35f, cv=%.3f' % (t_stat, p, cv))"
   ]
  },
  {
   "cell_type": "code",
   "execution_count": 17,
   "metadata": {},
   "outputs": [
    {
     "name": "stdout",
     "output_type": "stream",
     "text": [
      "Reject the null hypothesis that insured people are not charge same.\n"
     ]
    }
   ],
   "source": [
    "# interpret via p-value (previous assignment)\n",
    "if p > alpha:\n",
    "    print('Accept null hypothesis that insured people are charged same.')\n",
    "else:\n",
    "    print('Reject the null hypothesis that insured people are not charge same.')"
   ]
  },
  {
   "cell_type": "code",
   "execution_count": 18,
   "metadata": {},
   "outputs": [
    {
     "name": "stdout",
     "output_type": "stream",
     "text": [
      "Reject the null hypothesis that insured people are not charge same.\n"
     ]
    }
   ],
   "source": [
    "# interpret via critical value (previous assignment)\n",
    "if abs(t_stat) <= cv:\n",
    "    print('Accept null hypothesis that insured people are charged same.')\n",
    "else:\n",
    "    print('Reject the null hypothesis that insured people are not charge same.')"
   ]
  },
  {
   "cell_type": "markdown",
   "metadata": {},
   "source": [
    "__Q:__ To put the above result in perspective, plot the histogram of your bootstrapped differences along with lines marking the locations of the observed difference. (Why would we plot more than one line, given that we only have one observed difference?)"
   ]
  },
  {
   "cell_type": "markdown",
   "metadata": {},
   "source": [
    "__A:__Since the p-value (0.0000) is less alpha (0.05), we reject the null hypothesis. In other words, there is not enough evidence to suggest people with insurance are not charged same as people with no insurance."
   ]
  },
  {
   "cell_type": "code",
   "execution_count": 19,
   "metadata": {},
   "outputs": [
    {
     "name": "stderr",
     "output_type": "stream",
     "text": [
      "C:\\Sumit\\Anaconda3\\lib\\site-packages\\matplotlib\\axes\\_axes.py:6521: MatplotlibDeprecationWarning: \n",
      "The 'normed' kwarg was deprecated in Matplotlib 2.1 and will be removed in 3.1. Use 'density' instead.\n",
      "  alternative=\"'density'\", removal=\"3.1\")\n"
     ]
    },
    {
     "data": {
      "image/png": "[encoded data removed]",
      "text/plain": [
       "<Figure size 432x288 with 1 Axes>"
      ]
     },
     "metadata": {
      "needs_background": "light"
     },
     "output_type": "display_data"
    }
   ],
   "source": [
    "_ = plt.hist(bs_replicates_m, bins=30, normed=True)\n",
    "_ = plt.xlabel('CHARGES')\n",
    "_ = plt.ylabel('PDF')\n",
    "_ = plt.axvline(-1.77, color='r')\n",
    "_ = plt.axvline(-1103.99, color='g', linestyle='-.')\n",
    "_ = plt.axvline(1146.90, color='g', linestyle='-.')\n",
    "_ = plt.savefig('C:/Sumit/scripts/Bootstrap/Output/bootstrap_replicates_diff_hist_conf_int.png')\n",
    "_ = plt.show()"
   ]
  },
  {
   "cell_type": "markdown",
   "metadata": {},
   "source": [
    "__Q:__ Compare your p-value above with that obtained using the _t_-test function in the previous assignment. Do you think you would want to try to perform enough bootstrap replicates to observe a random difference as large as that we did observe?"
   ]
  },
  {
   "cell_type": "markdown",
   "metadata": {},
   "source": [
    "__A:__In the current calculation the p value is very very small, and also t test function of the previous assignment also give the same result. However, will prefer bootstrap as it can estimate the sampling distribution without many of the assumptions needed by parametric methods"
   ]
  },
  {
   "cell_type": "markdown",
   "metadata": {},
   "source": [
    "__Q:__ Consider the two variants of the _t_-test we performed in the previous assignment. Which one would you use now?"
   ]
  },
  {
   "cell_type": "markdown",
   "metadata": {},
   "source": [
    "__A:__The first variants of the t test in the previous assignment was manual and prone to error. Hence, would use the second variant"
   ]
  },
  {
   "cell_type": "markdown",
   "metadata": {},
   "source": [
    "__Q:__ If, instead of being asked whether the means of two groups were different, you were working with an ad-recommender team who wanted to release a new recommendation algorithm, and you were looking at click-through rate both for the current algorithm (call it A) and from trials of their new algorithm (call it B), would you perform a two-sided test as above? What would be your null and alternative hypotheses and what would be the real-world consequence of rejecting the null hypothesis?"
   ]
  },
  {
   "cell_type": "markdown",
   "metadata": {},
   "source": [
    "__A:__We will use right side tail test. The H0 : The click through rate of the current algorithm is same as that from trials of the new algorithm\n",
    "H1 : The click through rate of the current algorithm is not same as that from trials of the new algorithm"
   ]
  },
  {
   "cell_type": "markdown",
   "metadata": {},
   "source": [
    "# Learning outcomes\n",
    "\n",
    "You've previously applied frequentist methods to calculate confidence intervals, p-values, and perform hypothesis tests. Frequentist methods use theoretical results to calculate what we expect would happen if experiments were to be run again and again and again. Now you've seen how you can do the same things using the bootstrap approach, which does not rely on such theory, and attendant assumptions, but instead literally does run experiments again and again and again.\n",
    "\n",
    "In these exercises, you have:\n",
    "* calculated the same confidence interval lower limit as you did previously\n",
    "* tested the assumption that the variances of the two groups (insured vs. non-insured) were equal - something a bit harder to do using the frequentist method because of the nature of the sampling distribution for variance\n",
    "* calculated the p-value for the difference between the means of the two groups and compared with the result obtained using the previous frequentist approach\n",
    "\n",
    "You are now well equipped to apply the bootstrap approach to a wide variety of problems. Just think about what conditions you wish to recreate in your simulated reruns."
   ]
  }
 ],
 "metadata": {
  "kernelspec": {
   "display_name": "Python 3",
   "language": "python",
   "name": "python3"
  },
  "language_info": {
   "codemirror_mode": {
    "name": "ipython",
    "version": 3
   },
   "file_extension": ".py",
   "mimetype": "text/x-python",
   "name": "python",
   "nbconvert_exporter": "python",
   "pygments_lexer": "ipython3",
   "version": "3.7.3"
  }
 },
 "nbformat": 4,
 "nbformat_minor": 2
}
